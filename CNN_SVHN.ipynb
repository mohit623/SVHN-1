{
  "nbformat": 4,
  "nbformat_minor": 0,
  "metadata": {
    "colab": {
      "name": "CNN-SVHN.ipynb",
      "provenance": [],
      "collapsed_sections": [],
      "authorship_tag": "ABX9TyMssWIJNOkL4MkiJX9oUL9H",
      "include_colab_link": true
    },
    "kernelspec": {
      "name": "python3",
      "display_name": "Python 3"
    },
    "accelerator": "GPU"
  },
  "cells": [
    {
      "cell_type": "markdown",
      "metadata": {
        "id": "view-in-github",
        "colab_type": "text"
      },
      "source": [
        "<a href=\"https://colab.research.google.com/github/mohit623/SVHN-1/blob/main/CNN_SVHN.ipynb\" target=\"_parent\"><img src=\"https://colab.research.google.com/assets/colab-badge.svg\" alt=\"Open In Colab\"/></a>"
      ]
    },
    {
      "cell_type": "code",
      "metadata": {
        "id": "SA8prcY8oxyH",
        "outputId": "395dc5ca-ba1f-4370-bc86-9013d50748a5",
        "colab": {
          "base_uri": "https://localhost:8080/"
        }
      },
      "source": [
        "!python --version"
      ],
      "execution_count": 1,
      "outputs": [
        {
          "output_type": "stream",
          "text": [
            "Python 3.6.9\n"
          ],
          "name": "stdout"
        }
      ]
    },
    {
      "cell_type": "code",
      "metadata": {
        "id": "c6DO2gCko4xQ",
        "outputId": "296644a9-8b95-4492-8861-3b91a22c4b08",
        "colab": {
          "base_uri": "https://localhost:8080/"
        }
      },
      "source": [
        "!conda --version"
      ],
      "execution_count": 2,
      "outputs": [
        {
          "output_type": "stream",
          "text": [
            "/bin/bash: conda: command not found\n"
          ],
          "name": "stdout"
        }
      ]
    },
    {
      "cell_type": "code",
      "metadata": {
        "id": "nNuW3wHSo7Gz",
        "outputId": "ed3a2309-ea69-4333-f100-97fff4bae28e",
        "colab": {
          "base_uri": "https://localhost:8080/"
        }
      },
      "source": [
        "!ls -al"
      ],
      "execution_count": 5,
      "outputs": [
        {
          "output_type": "stream",
          "text": [
            "total 240564\n",
            "drwxr-xr-x 1 root root      4096 Nov 13 00:42 .\n",
            "drwxr-xr-x 1 root root      4096 Nov 13 00:22 ..\n",
            "drwxr-xr-x 1 root root      4096 Nov  6 17:30 .config\n",
            "drwxr-xr-x 1 root root      4096 Nov  6 17:30 sample_data\n",
            "-rw-r--r-- 1 root root  64275384 Nov 13 00:46 test_32x32.mat\n",
            "-rw-r--r-- 1 root root 182040794 Nov 13 00:42 train_32x32.mat\n"
          ],
          "name": "stdout"
        }
      ]
    },
    {
      "cell_type": "code",
      "metadata": {
        "id": "huU7XE-_pEJd",
        "outputId": "0b24a6b5-8d76-4f61-84b3-2247e0b5c664",
        "colab": {
          "base_uri": "https://localhost:8080/"
        }
      },
      "source": [
        "\n",
        "!wget https://repo.continuum.io/miniconda/Miniconda3-4.5.4-Linux-x86_64.sh && bash Miniconda3-4.5.4-Linux-x86_64.sh -bfp /usr/local\n",
        "!conda update conda -y -q\n",
        "!source /usr/local/etc/profile.d/conda.sh\n",
        "!conda init \n",
        "!conda install -n root _license -y -q"
      ],
      "execution_count": 8,
      "outputs": [
        {
          "output_type": "stream",
          "text": [
            "--2020-11-13 00:55:07--  https://repo.continuum.io/miniconda/Miniconda3-4.5.4-Linux-x86_64.sh\n",
            "Resolving repo.continuum.io (repo.continuum.io)... 104.18.200.79, 104.18.201.79, 2606:4700::6812:c94f, ...\n",
            "Connecting to repo.continuum.io (repo.continuum.io)|104.18.200.79|:443... connected.\n",
            "HTTP request sent, awaiting response... 301 Moved Permanently\n",
            "Location: https://repo.anaconda.com/miniconda/Miniconda3-4.5.4-Linux-x86_64.sh [following]\n",
            "--2020-11-13 00:55:07--  https://repo.anaconda.com/miniconda/Miniconda3-4.5.4-Linux-x86_64.sh\n",
            "Resolving repo.anaconda.com (repo.anaconda.com)... 104.16.131.3, 104.16.130.3, 2606:4700::6810:8203, ...\n",
            "Connecting to repo.anaconda.com (repo.anaconda.com)|104.16.131.3|:443... connected.\n",
            "HTTP request sent, awaiting response... 200 OK\n",
            "Length: 58468498 (56M) [application/x-sh]\n",
            "Saving to: ‘Miniconda3-4.5.4-Linux-x86_64.sh’\n",
            "\n",
            "Miniconda3-4.5.4-Li 100%[===================>]  55.76M   181MB/s    in 0.3s    \n",
            "\n",
            "2020-11-13 00:55:08 (181 MB/s) - ‘Miniconda3-4.5.4-Linux-x86_64.sh’ saved [58468498/58468498]\n",
            "\n",
            "PREFIX=/usr/local\n",
            "installing: python-3.6.5-hc3d631a_2 ...\n",
            "Python 3.6.5 :: Anaconda, Inc.\n",
            "installing: ca-certificates-2018.03.07-0 ...\n",
            "installing: conda-env-2.6.0-h36134e3_1 ...\n",
            "installing: libgcc-ng-7.2.0-hdf63c60_3 ...\n",
            "installing: libstdcxx-ng-7.2.0-hdf63c60_3 ...\n",
            "installing: libffi-3.2.1-hd88cf55_4 ...\n",
            "installing: ncurses-6.1-hf484d3e_0 ...\n",
            "installing: openssl-1.0.2o-h20670df_0 ...\n",
            "installing: tk-8.6.7-hc745277_3 ...\n",
            "installing: xz-5.2.4-h14c3975_4 ...\n",
            "installing: yaml-0.1.7-had09818_2 ...\n",
            "installing: zlib-1.2.11-ha838bed_2 ...\n",
            "installing: libedit-3.1.20170329-h6b74fdf_2 ...\n",
            "installing: readline-7.0-ha6073c6_4 ...\n",
            "installing: sqlite-3.23.1-he433501_0 ...\n",
            "installing: asn1crypto-0.24.0-py36_0 ...\n",
            "installing: certifi-2018.4.16-py36_0 ...\n",
            "installing: chardet-3.0.4-py36h0f667ec_1 ...\n",
            "installing: idna-2.6-py36h82fb2a8_1 ...\n",
            "installing: pycosat-0.6.3-py36h0a5515d_0 ...\n",
            "installing: pycparser-2.18-py36hf9f622e_1 ...\n",
            "installing: pysocks-1.6.8-py36_0 ...\n",
            "installing: ruamel_yaml-0.15.37-py36h14c3975_2 ...\n",
            "installing: six-1.11.0-py36h372c433_1 ...\n",
            "installing: cffi-1.11.5-py36h9745a5d_0 ...\n",
            "installing: setuptools-39.2.0-py36_0 ...\n",
            "installing: cryptography-2.2.2-py36h14c3975_0 ...\n",
            "installing: wheel-0.31.1-py36_0 ...\n",
            "installing: pip-10.0.1-py36_0 ...\n",
            "installing: pyopenssl-18.0.0-py36_0 ...\n",
            "installing: urllib3-1.22-py36hbe7ace6_0 ...\n",
            "installing: requests-2.18.4-py36he2e5f8d_1 ...\n",
            "installing: conda-4.5.4-py36_0 ...\n",
            "installation finished.\n",
            "WARNING:\n",
            "    You currently have a PYTHONPATH environment variable set. This may cause\n",
            "    unexpected behavior when running the Python interpreter in Miniconda3.\n",
            "    For best results, please verify that your PYTHONPATH only points to\n",
            "    directories of packages that are compatible with the Python interpreter\n",
            "    in Miniconda3: /usr/local\n",
            "Solving environment: ...working... done\n",
            "\n",
            "## Package Plan ##\n",
            "\n",
            "  environment location: /usr/local\n",
            "\n",
            "  added / updated specs: \n",
            "    - conda\n",
            "\n",
            "\n",
            "The following packages will be downloaded:\n",
            "\n",
            "    package                    |            build\n",
            "    ---------------------------|-----------------\n",
            "    ruamel_yaml-0.15.87        |   py37h7b6447c_1         253 KB\n",
            "    python-3.7.0               |       hc3d631a_0        31.7 MB\n",
            "    wheel-0.35.1               |             py_0          36 KB\n",
            "    yaml-0.2.5                 |       h7b6447c_0          87 KB\n",
            "    pysocks-1.7.1              |           py37_1          27 KB\n",
            "    cryptography-2.3.1         |   py37hc365091_0         585 KB\n",
            "    pip-20.2.4                 |   py37h06a4308_0         2.0 MB\n",
            "    cffi-1.14.0                |   py37h2e261b9_0         225 KB\n",
            "    six-1.15.0                 |   py37h06a4308_0          27 KB\n",
            "    conda-4.9.2                |   py37h06a4308_0         3.1 MB\n",
            "    libgcc-ng-9.1.0            |       hdf63c60_0         8.1 MB\n",
            "    readline-7.0               |       h7b6447c_5         392 KB\n",
            "    tqdm-4.50.2                |             py_0          55 KB\n",
            "    brotlipy-0.7.0             |py37h7b6447c_1000         348 KB\n",
            "    tk-8.6.10                  |       hbc83047_0         3.2 MB\n",
            "    zlib-1.2.11                |       h7b6447c_3         120 KB\n",
            "    idna-2.10                  |             py_0          56 KB\n",
            "    openssl-1.0.2u             |       h7b6447c_0         3.1 MB\n",
            "    libedit-3.1.20181209       |       hc058e9b_0         188 KB\n",
            "    conda-package-handling-1.7.2|   py37h03888b9_0         977 KB\n",
            "    asn1crypto-1.4.0           |             py_0          77 KB\n",
            "    setuptools-50.3.1          |   py37h06a4308_1         901 KB\n",
            "    xz-5.2.5                   |       h7b6447c_0         438 KB\n",
            "    pyopenssl-19.0.0           |           py37_0          82 KB\n",
            "    requests-2.24.0            |             py_0          54 KB\n",
            "    chardet-3.0.4              |        py37_1003         173 KB\n",
            "    pycosat-0.6.3              |   py37h7b6447c_0         107 KB\n",
            "    ca-certificates-2020.10.14 |                0         128 KB\n",
            "    certifi-2020.6.20          |     pyhd3eb1b0_3         159 KB\n",
            "    _libgcc_mutex-0.1          |             main           3 KB\n",
            "    urllib3-1.25.11            |             py_0          93 KB\n",
            "    sqlite-3.31.1              |       h7b6447c_0         2.0 MB\n",
            "    pycparser-2.20             |             py_2          94 KB\n",
            "    ------------------------------------------------------------\n",
            "                                           Total:        58.7 MB\n",
            "\n",
            "The following NEW packages will be INSTALLED:\n",
            "\n",
            "    _libgcc_mutex:          0.1-main               \n",
            "    brotlipy:               0.7.0-py37h7b6447c_1000\n",
            "    conda-package-handling: 1.7.2-py37h03888b9_0   \n",
            "    tqdm:                   4.50.2-py_0            \n",
            "\n",
            "The following packages will be UPDATED:\n",
            "\n",
            "    asn1crypto:             0.24.0-py36_0           --> 1.4.0-py_0             \n",
            "    ca-certificates:        2018.03.07-0            --> 2020.10.14-0           \n",
            "    certifi:                2018.4.16-py36_0        --> 2020.6.20-pyhd3eb1b0_3 \n",
            "    cffi:                   1.11.5-py36h9745a5d_0   --> 1.14.0-py37h2e261b9_0  \n",
            "    chardet:                3.0.4-py36h0f667ec_1    --> 3.0.4-py37_1003        \n",
            "    conda:                  4.5.4-py36_0            --> 4.9.2-py37h06a4308_0   \n",
            "    cryptography:           2.2.2-py36h14c3975_0    --> 2.3.1-py37hc365091_0   \n",
            "    idna:                   2.6-py36h82fb2a8_1      --> 2.10-py_0              \n",
            "    libedit:                3.1.20170329-h6b74fdf_2 --> 3.1.20181209-hc058e9b_0\n",
            "    libgcc-ng:              7.2.0-hdf63c60_3        --> 9.1.0-hdf63c60_0       \n",
            "    openssl:                1.0.2o-h20670df_0       --> 1.0.2u-h7b6447c_0      \n",
            "    pip:                    10.0.1-py36_0           --> 20.2.4-py37h06a4308_0  \n",
            "    pycosat:                0.6.3-py36h0a5515d_0    --> 0.6.3-py37h7b6447c_0   \n",
            "    pycparser:              2.18-py36hf9f622e_1     --> 2.20-py_2              \n",
            "    pyopenssl:              18.0.0-py36_0           --> 19.0.0-py37_0          \n",
            "    pysocks:                1.6.8-py36_0            --> 1.7.1-py37_1           \n",
            "    python:                 3.6.5-hc3d631a_2        --> 3.7.0-hc3d631a_0       \n",
            "    readline:               7.0-ha6073c6_4          --> 7.0-h7b6447c_5         \n",
            "    requests:               2.18.4-py36he2e5f8d_1   --> 2.24.0-py_0            \n",
            "    ruamel_yaml:            0.15.37-py36h14c3975_2  --> 0.15.87-py37h7b6447c_1 \n",
            "    setuptools:             39.2.0-py36_0           --> 50.3.1-py37h06a4308_1  \n",
            "    six:                    1.11.0-py36h372c433_1   --> 1.15.0-py37h06a4308_0  \n",
            "    sqlite:                 3.23.1-he433501_0       --> 3.31.1-h7b6447c_0      \n",
            "    tk:                     8.6.7-hc745277_3        --> 8.6.10-hbc83047_0      \n",
            "    urllib3:                1.22-py36hbe7ace6_0     --> 1.25.11-py_0           \n",
            "    wheel:                  0.31.1-py36_0           --> 0.35.1-py_0            \n",
            "    xz:                     5.2.4-h14c3975_4        --> 5.2.5-h7b6447c_0       \n",
            "    yaml:                   0.1.7-had09818_2        --> 0.2.5-h7b6447c_0       \n",
            "    zlib:                   1.2.11-ha838bed_2       --> 1.2.11-h7b6447c_3      \n",
            "\n",
            "Preparing transaction: ...working... done\n",
            "Verifying transaction: ...working... done\n",
            "Executing transaction: ...working... done\n",
            "no change     /usr/local/condabin/conda\n",
            "no change     /usr/local/bin/conda\n",
            "no change     /usr/local/bin/conda-env\n",
            "no change     /usr/local/bin/activate\n",
            "no change     /usr/local/bin/deactivate\n",
            "no change     /usr/local/etc/profile.d/conda.sh\n",
            "no change     /usr/local/etc/fish/conf.d/conda.fish\n",
            "no change     /usr/local/shell/condabin/Conda.psm1\n",
            "no change     /usr/local/shell/condabin/conda-hook.ps1\n",
            "no change     /usr/local/lib/python3.7/site-packages/xontrib/conda.xsh\n",
            "no change     /usr/local/etc/profile.d/conda.csh\n",
            "modified      /root/.bashrc\n",
            "\n",
            "==> For changes to take effect, close and re-open your current shell. <==\n",
            "\n",
            "Collecting package metadata (current_repodata.json): ...working... done\n",
            "Solving environment: ...working... failed with initial frozen solve. Retrying with flexible solve.\n",
            "Collecting package metadata (repodata.json): ...working... done\n",
            "Solving environment: ...working... failed with initial frozen solve. Retrying with flexible solve.\n",
            "\n",
            "PackagesNotFoundError: The following packages are not available from current channels:\n",
            "\n",
            "  - _license\n",
            "\n",
            "Current channels:\n",
            "\n",
            "  - https://repo.anaconda.com/pkgs/main/linux-64\n",
            "  - https://repo.anaconda.com/pkgs/main/noarch\n",
            "  - https://repo.anaconda.com/pkgs/r/linux-64\n",
            "  - https://repo.anaconda.com/pkgs/r/noarch\n",
            "\n",
            "To search for alternate channels that may provide the conda package you're\n",
            "looking for, navigate to\n",
            "\n",
            "    https://anaconda.org\n",
            "\n",
            "and use the search bar at the top of the page.\n",
            "\n",
            "\n"
          ],
          "name": "stdout"
        }
      ]
    },
    {
      "cell_type": "code",
      "metadata": {
        "id": "jgqCAKYKpLfF",
        "outputId": "b51d75f3-346f-47fe-ad77-69877ea3f54f",
        "colab": {
          "base_uri": "https://localhost:8080/"
        }
      },
      "source": [
        "!conda --version"
      ],
      "execution_count": 9,
      "outputs": [
        {
          "output_type": "stream",
          "text": [
            "conda 4.9.2\n"
          ],
          "name": "stdout"
        }
      ]
    },
    {
      "cell_type": "code",
      "metadata": {
        "id": "ySgWiQ_qpr8t",
        "outputId": "5eadf743-19ff-4f28-d2f9-50220be463ec",
        "colab": {
          "resources": {
            "http://localhost:8080/nbextensions/google.colab/files.js": {
              "data": "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",
              "ok": true,
              "headers": [
                [
                  "content-type",
                  "application/javascript"
                ]
              ],
              "status": 200,
              "status_text": ""
            }
          },
          "base_uri": "https://localhost:8080/",
          "height": 73
        }
      },
      "source": [
        "from google.colab import files\n",
        "uploaded = files.upload()"
      ],
      "execution_count": 6,
      "outputs": [
        {
          "output_type": "display_data",
          "data": {
            "text/html": [
              "\n",
              "     <input type=\"file\" id=\"files-95f5afd4-eccf-4a8e-9a4c-f1d933d23f52\" name=\"files[]\" multiple disabled\n",
              "        style=\"border:none\" />\n",
              "     <output id=\"result-95f5afd4-eccf-4a8e-9a4c-f1d933d23f52\">\n",
              "      Upload widget is only available when the cell has been executed in the\n",
              "      current browser session. Please rerun this cell to enable.\n",
              "      </output>\n",
              "      <script src=\"/nbextensions/google.colab/files.js\"></script> "
            ],
            "text/plain": [
              "<IPython.core.display.HTML object>"
            ]
          },
          "metadata": {
            "tags": []
          }
        },
        {
          "output_type": "stream",
          "text": [
            "Saving cv_proj.yml to cv_proj.yml\n"
          ],
          "name": "stdout"
        }
      ]
    },
    {
      "cell_type": "code",
      "metadata": {
        "id": "KymYok-xp0ZM",
        "outputId": "a0274c31-1c4f-4e53-8caa-c5e28b78dbe8",
        "colab": {
          "base_uri": "https://localhost:8080/"
        }
      },
      "source": [
        "!conda env create -f cv_proj.yml"
      ],
      "execution_count": 10,
      "outputs": [
        {
          "output_type": "stream",
          "text": [
            "Warning: you have pip-installed dependencies in your environment file, but you do not list pip itself as one of your conda dependencies.  Conda may not use the correct pip to install your packages, and they may end up in the wrong place.  Please add an explicit pip dependency.  I'm adding one for you, but still nagging you.\n",
            "Collecting package metadata (repodata.json): - \b\b\\ \b\b| \b\b/ \b\b- \b\b\\ \b\b| \b\b/ \b\b- \b\b\\ \b\b| \b\b/ \b\b- \b\b\\ \b\b| \b\b/ \b\b- \b\b\\ \b\b| \b\b/ \b\b- \b\b\\ \b\b| \b\b/ \b\b- \b\b\\ \b\b| \b\b/ \b\b- \b\b\\ \b\b| \b\b/ \b\b- \b\b\\ \b\b| \b\b/ \b\b- \b\b\\ \b\b| \b\bdone\n",
            "Solving environment: - \b\b\\ \b\b| \b\b/ \b\b- \b\b\\ \b\b| \b\b/ \b\b- \b\b\\ \b\b| \b\b/ \b\b- \b\b\\ \b\b| \b\b/ \b\b- \b\b\\ \b\b| \b\b/ \b\b- \b\b\\ \b\b| \b\b/ \b\b- \b\b\\ \b\b| \b\b/ \b\b- \b\b\\ \b\b| \b\b/ \b\b- \b\b\\ \b\b| \b\b/ \b\b- \b\b\\ \b\b| \b\b/ \b\b- \b\b\\ \b\b| \b\b/ \b\b- \b\b\\ \b\b| \b\b/ \b\b- \b\b\\ \b\b| \b\b/ \b\b- \b\b\\ \b\b| \b\b/ \b\b- \b\b\\ \b\b| \b\b/ \b\b- \b\b\\ \b\b| \b\b/ \b\b- \b\b\\ \b\b| \b\b/ \b\b- \b\b\\ \b\b| \b\b/ \b\b- \n",
            "Found conflicts! Looking for incompatible packages.\n",
            "This can take several minutes.  Press CTRL-C to abort.\n",
            "\b\bfailed\n",
            "Solving environment: / \b\b- \b\b\\ \b\b| \b\b/ \b\b- \b\b\\ \b\b| \b\b/ \b\b- \b\b\\ \b\b| \b\b/ \b\b- \b\b\\ \b\b| \b\b/ \b\b- \b\b\\ \b\b| \b\b/ \b\b- \b\b\\ \b\b| \b\b/ \b\b- \b\b\\ \b\b| \b\b/ \b\b- \b\b\\ \b\b| \b\b/ \b\b- \b\b\\ \b\b| \b\b/ \b\b- \b\b\\ \b\b| \b\b/ \b\b- \b\b\\ \b\b| \b\b/ \b\b- \b\b\\ \b\b| \b\b/ \b\b- \b\b\\ \b\b| \b\b/ \b\b- \b\b\\ \b\b| \b\b/ \b\b- \b\b\\ \b\b| \b\b/ \b\b- \b\b\\ \b\b| \b\b/ \b\b- \b\b\\ \b\b| \b\b/ \b\b- \b\b\\ \b\b| \b\b/ \b\b- \b\b\\ \b\b| \b\b/ \b\b- \b\b\\ \b\b| \b\b/ \b\b- \b\b\\ \b\b| \b\b/ \b\b- \b\b\\ \b\b| \b\b/ \b\b- \b\b\\ \b\b| \b\b/ \b\b- \b\b\\ \b\b| \b\b/ \b\b- \b\b\\ \b\b| \b\b/ \b\b- \b\b\\ \b\b| \b\b/ \b\b- \b\b\\ \b\b| \b\b/ \b\b- \b\b\\ \b\b| \b\b/ \b\b- \b\b\\ \b\b| \b\b/ \b\b- \b\b\\ \n",
            "Found conflicts! Looking for incompatible packages.\n",
            "This can take several minutes.  Press CTRL-C to abort.\n",
            "\b\bfailed\n",
            "\n",
            "UnsatisfiableError: The following specifications were found to be incompatible with each other:\n",
            "\n",
            "Output in format: Requested package -> Available versions\n",
            "\n",
            "Package pytorch conflicts for:\n",
            "torchvision=0.5.0 -> pytorch==1.4.0\n",
            "pytorch=1.4.0\n",
            "\n",
            "Package python conflicts for:\n",
            "scipy=1.2.1 -> numpy[version='>=1.11.3,<2.0a0'] -> python[version='>=3.5,<3.6.0a0|>=3.8,<3.9.0a0']\n",
            "python=3.6.7\n",
            "h5py=2.9.0 -> numpy[version='>=1.11.3,<2.0a0'] -> python[version='>=3.5,<3.6.0a0|>=3.9,<3.10.0a0']\n",
            "numpy=1.17.3 -> python[version='>=3.6,<3.7.0a0|>=3.7,<3.8.0a0|>=3.8,<3.9.0a0']\n",
            "tensorflow-gpu=2.1.0 -> tensorflow==2.1.0 -> python[version='2.7.*|3.6.*|3.7.*']\n",
            "pytorch=1.4.0 -> python[version='>=2.7,<2.8.0a0|>=3.6,<3.7.0a0|>=3.7,<3.8.0a0|>=3.8,<3.9.0a0|>=3.5,<3.6.0a0']\n",
            "numpy=1.17.3 -> mkl-service[version='>=2,<3.0a0'] -> python[version='>=2.7,<2.8.0a0|>=3.5,<3.6.0a0']\n",
            "h5py=2.9.0 -> python[version='>=2.7,<2.8.0a0|>=3.6,<3.7.0a0|>=3.8,<3.9.0a0|>=3.7,<3.8.0a0']\n",
            "setuptools=39.1.0 -> certifi[version='>=2016.09'] -> python[version='>=3.8,<3.9.0a0|>=3.9,<3.10.0a0']\n",
            "setuptools=39.1.0 -> python[version='>=2.7,<2.8.0a0|>=3.5,<3.6.0a0|>=3.6,<3.7.0a0|>=3.7,<3.8.0a0']\n",
            "torchvision=0.5.0 -> python[version='>=2.7,<2.8.0a0|>=3.5,<3.6.0a0|>=3.6,<3.7.0a0|>=3.8,<3.9.0a0|>=3.7,<3.8.0a0']\n",
            "cython=0.29 -> python[version='>=2.7,<2.8.0a0|>=3.6,<3.7.0a0|>=3.8,<3.9.0a0|>=3.7,<3.8.0a0']\n",
            "torchvision=0.5.0 -> six -> python[version='>=3.9,<3.10.0a0']\n",
            "cython=0.29 -> setuptools -> python[version='>=3.5,<3.6.0a0|>=3.9,<3.10.0a0']\n",
            "scipy=1.2.1 -> python[version='>=2.7,<2.8.0a0|>=3.6,<3.7.0a0|>=3.7,<3.8.0a0']\n",
            "\n",
            "Package ld_impl_linux-64 conflicts for:\n",
            "scipy=1.2.1 -> python[version='>=3.7,<3.8.0a0'] -> ld_impl_linux-64\n",
            "pytorch=1.4.0 -> python[version='>=3.8,<3.9.0a0'] -> ld_impl_linux-64\n",
            "torchvision=0.5.0 -> python[version='>=3.8,<3.9.0a0'] -> ld_impl_linux-64\n",
            "setuptools=39.1.0 -> python[version='>=3.7,<3.8.0a0'] -> ld_impl_linux-64\n",
            "pip -> python[version='>=3.8,<3.9.0a0'] -> ld_impl_linux-64\n",
            "h5py=2.9.0 -> python[version='>=3.8,<3.9.0a0'] -> ld_impl_linux-64\n",
            "numpy=1.17.3 -> python[version='>=3.7,<3.8.0a0'] -> ld_impl_linux-64\n",
            "cython=0.29 -> python[version='>=3.6,<3.7.0a0'] -> ld_impl_linux-64\n",
            "\n",
            "Package numpy conflicts for:\n",
            "torchvision=0.5.0 -> pytorch==1.4.0 -> numpy[version='>=1.14.6,<2.0a0']\n",
            "scipy=1.2.1 -> numpy[version='>=1.11.3,<2.0a0']\n",
            "numpy=1.17.3\n",
            "pytorch=1.4.0 -> mkl-service[version='>=2,<3.0a0'] -> numpy[version='>=1.11.3,<2.0a0']\n",
            "torchvision=0.5.0 -> numpy[version='>=1.11']\n",
            "h5py=2.9.0 -> numpy[version='>=1.11.3,<2.0a0']\n",
            "pytorch=1.4.0 -> numpy[version='>=1.11|>=1.14.6,<2.0a0']\n",
            "\n",
            "Package _libgcc_mutex conflicts for:\n",
            "pytorch=1.4.0 -> libgcc-ng[version='>=7.3.0'] -> _libgcc_mutex=[build=main]\n",
            "scipy=1.2.1 -> libgcc-ng[version='>=7.3.0'] -> _libgcc_mutex=[build=main]\n",
            "cython=0.29 -> libgcc-ng[version='>=7.3.0'] -> _libgcc_mutex=[build=main]\n",
            "numpy=1.17.3 -> libgcc-ng[version='>=7.3.0'] -> _libgcc_mutex=[build=main]\n",
            "python=3.6.7 -> libgcc-ng[version='>=7.3.0'] -> _libgcc_mutex=[build=main]\n",
            "h5py=2.9.0 -> libgcc-ng[version='>=7.3.0'] -> _libgcc_mutex=[build=main]\n",
            "\n",
            "Package six conflicts for:\n",
            "h5py=2.9.0 -> six\n",
            "torchvision=0.5.0 -> six\n",
            "h5py=2.9.0 -> unittest2 -> six[version='>=1.4']\n",
            "pytorch=1.4.0 -> mkl-service[version='>=2,<3.0a0'] -> six\n",
            "numpy=1.17.3 -> mkl-service[version='>=2,<3.0a0'] -> six\n",
            "\n",
            "Package pip conflicts for:\n",
            "h5py=2.9.0 -> python[version='>=3.8,<3.9.0a0'] -> pip\n",
            "setuptools=39.1.0 -> python[version='>=3.7,<3.8.0a0'] -> pip\n",
            "scipy=1.2.1 -> python[version='>=3.7,<3.8.0a0'] -> pip\n",
            "cython=0.29 -> python[version='>=3.6,<3.7.0a0'] -> pip\n",
            "numpy=1.17.3 -> python[version='>=3.7,<3.8.0a0'] -> pip\n",
            "pip\n",
            "torchvision=0.5.0 -> python[version='>=3.8,<3.9.0a0'] -> pip\n",
            "pytorch=1.4.0 -> python[version='>=3.8,<3.9.0a0'] -> pip\n",
            "python=3.6.7 -> pip\n",
            "\n",
            "Package ca-certificates conflicts for:\n",
            "cython=0.29 -> python[version='>=2.7,<2.8.0a0'] -> ca-certificates\n",
            "scipy=1.2.1 -> python[version='>=2.7,<2.8.0a0'] -> ca-certificates\n",
            "python=3.6.7 -> openssl[version='>=1.1.1a,<1.1.2a'] -> ca-certificates\n",
            "torchvision=0.5.0 -> python[version='>=2.7,<2.8.0a0'] -> ca-certificates\n",
            "h5py=2.9.0 -> python[version='>=2.7,<2.8.0a0'] -> ca-certificates\n",
            "pip -> python[version='>=2.7,<2.8.0a0'] -> ca-certificates\n",
            "setuptools=39.1.0 -> python[version='>=2.7,<2.8.0a0'] -> ca-certificates\n",
            "pytorch=1.4.0 -> python[version='>=2.7,<2.8.0a0'] -> ca-certificates\n",
            "\n",
            "Package intel-openmp conflicts for:\n",
            "pytorch=1.4.0 -> mkl[version='>=2018'] -> intel-openmp\n",
            "scipy=1.2.1 -> mkl[version='>=2019.1,<2020.0a0'] -> intel-openmp\n",
            "numpy=1.17.3 -> mkl[version='>=2019.4,<2020.0a0'] -> intel-openmp\n",
            "\n",
            "Package certifi conflicts for:\n",
            "setuptools=39.1.0 -> certifi[version='>=2016.09']\n",
            "cython=0.29 -> setuptools -> certifi[version='>=2016.09|>=2016.9.26']\n",
            "pip -> setuptools -> certifi[version='>=2016.09|>=2016.9.26']\n",
            "\n",
            "Package wheel conflicts for:\n",
            "pip -> wheel\n",
            "python=3.6.7 -> pip -> wheel\n",
            "\n",
            "Package setuptools conflicts for:\n",
            "python=3.6.7 -> pip -> setuptools\n",
            "setuptools=39.1.0\n",
            "cython=0.29 -> setuptools\n",
            "\n"
          ],
          "name": "stdout"
        }
      ]
    },
    {
      "cell_type": "code",
      "metadata": {
        "id": "xDANiT4wrInG",
        "outputId": "8db2b1e0-a6e0-4301-b7ab-fcda941d24a6",
        "colab": {
          "base_uri": "https://localhost:8080/"
        }
      },
      "source": [
        "!python --version"
      ],
      "execution_count": 11,
      "outputs": [
        {
          "output_type": "stream",
          "text": [
            "Python 3.7.0\n"
          ],
          "name": "stdout"
        }
      ]
    },
    {
      "cell_type": "code",
      "metadata": {
        "id": "QvE-InVUrQye",
        "outputId": "f61374b4-1bab-429f-f2db-25c3170dfbc9",
        "colab": {
          "base_uri": "https://localhost:8080/"
        }
      },
      "source": [
        "!pytorch --version"
      ],
      "execution_count": 10,
      "outputs": [
        {
          "output_type": "stream",
          "text": [
            "/bin/bash: pytorch: command not found\n"
          ],
          "name": "stdout"
        }
      ]
    },
    {
      "cell_type": "code",
      "metadata": {
        "id": "uN8FAtGHsrK6"
      },
      "source": [
        "import numpy as np\n",
        "import keras\n",
        "import seaborn as sns\n",
        "from matplotlib import pyplot as plt\n",
        "from scipy.io import loadmat\n",
        "from sklearn.model_selection import train_test_split\n",
        "from sklearn.preprocessing import LabelBinarizer\n",
        "from sklearn.metrics import confusion_matrix\n",
        "from keras.preprocessing.image import ImageDataGenerator\n",
        "%matplotlib inline"
      ],
      "execution_count": 12,
      "outputs": []
    },
    {
      "cell_type": "code",
      "metadata": {
        "id": "BwY7LQo7st-7"
      },
      "source": [
        "\n",
        "np.random.seed(20)"
      ],
      "execution_count": 13,
      "outputs": []
    },
    {
      "cell_type": "code",
      "metadata": {
        "id": "M7mDLIhytEJk",
        "outputId": "c6a8810d-d314-4867-8f20-b9424d440aed",
        "colab": {
          "base_uri": "https://localhost:8080/"
        }
      },
      "source": [
        "!ls -al"
      ],
      "execution_count": 3,
      "outputs": [
        {
          "output_type": "stream",
          "text": [
            "total 16\n",
            "drwxr-xr-x 1 root root 4096 Nov  6 17:30 .\n",
            "drwxr-xr-x 1 root root 4096 Nov 13 00:22 ..\n",
            "drwxr-xr-x 1 root root 4096 Nov  6 17:30 .config\n",
            "drwxr-xr-x 1 root root 4096 Nov  6 17:30 sample_data\n"
          ],
          "name": "stdout"
        }
      ]
    },
    {
      "cell_type": "code",
      "metadata": {
        "id": "OZtvRjn6s-Uj"
      },
      "source": [
        "train_raw = loadmat('train_32x32.mat')"
      ],
      "execution_count": 14,
      "outputs": []
    },
    {
      "cell_type": "code",
      "metadata": {
        "id": "fhcJqDyqajxe"
      },
      "source": [
        "test_raw = loadmat('test_32x32.mat')"
      ],
      "execution_count": 15,
      "outputs": []
    },
    {
      "cell_type": "code",
      "metadata": {
        "id": "PyITREUmanCV"
      },
      "source": [
        "\n",
        "train_images = np.array(train_raw['X'])\n",
        "test_images = np.array(test_raw['X'])\n",
        "\n",
        "train_labels = train_raw['y']\n",
        "test_labels = test_raw['y']"
      ],
      "execution_count": 16,
      "outputs": []
    },
    {
      "cell_type": "code",
      "metadata": {
        "id": "aKoCVjBeasBK",
        "outputId": "6b87a47f-2c90-45f5-dcc5-98e6796110a8",
        "colab": {
          "base_uri": "https://localhost:8080/"
        }
      },
      "source": [
        "\n",
        "print(train_images.shape)\n",
        "print(test_images.shape)"
      ],
      "execution_count": 17,
      "outputs": [
        {
          "output_type": "stream",
          "text": [
            "(32, 32, 3, 73257)\n",
            "(32, 32, 3, 26032)\n"
          ],
          "name": "stdout"
        }
      ]
    },
    {
      "cell_type": "code",
      "metadata": {
        "id": "myVyuKYDaxhy",
        "outputId": "b122d7a1-ab25-42ed-b85f-5b47fb0f8d58",
        "colab": {
          "base_uri": "https://localhost:8080/"
        }
      },
      "source": [
        "train_images = np.moveaxis(train_images, -1, 0)\n",
        "test_images = np.moveaxis(test_images, -1, 0)\n",
        "\n",
        "print(train_images.shape)\n",
        "print(test_images.shape)"
      ],
      "execution_count": 18,
      "outputs": [
        {
          "output_type": "stream",
          "text": [
            "(73257, 32, 32, 3)\n",
            "(26032, 32, 32, 3)\n"
          ],
          "name": "stdout"
        }
      ]
    },
    {
      "cell_type": "code",
      "metadata": {
        "id": "DuwW0yP8a32j",
        "outputId": "e3447055-a157-48ca-b72f-d8738bf43110",
        "colab": {
          "base_uri": "https://localhost:8080/",
          "height": 283
        }
      },
      "source": [
        "\n",
        "plt.imshow(train_images[13830])\n",
        "plt.show()\n",
        "\n",
        "print('Label: ', train_labels[13830])"
      ],
      "execution_count": 21,
      "outputs": [
        {
          "output_type": "display_data",
          "data": {
            "image/png": "[encoded data removed]",
            "text/plain": [
              "<Figure size 432x288 with 1 Axes>"
            ]
          },
          "metadata": {
            "tags": [],
            "needs_background": "light"
          }
        },
        {
          "output_type": "stream",
          "text": [
            "Label:  [4]\n"
          ],
          "name": "stdout"
        }
      ]
    },
    {
      "cell_type": "code",
      "metadata": {
        "id": "6Y8zDocFbFlX"
      },
      "source": [
        "train_images = train_images.astype('float64')\n",
        "test_images = test_images.astype('float64')"
      ],
      "execution_count": 22,
      "outputs": []
    },
    {
      "cell_type": "code",
      "metadata": {
        "id": "j9QZAOeSbJx8"
      },
      "source": [
        "train_labels = train_labels.astype('int64')\n",
        "test_labels = test_labels.astype('int64')"
      ],
      "execution_count": 23,
      "outputs": []
    },
    {
      "cell_type": "code",
      "metadata": {
        "id": "uHuWVuxBbMyB",
        "outputId": "711a6605-1283-4553-9b11-c3794ae0eb5e",
        "colab": {
          "base_uri": "https://localhost:8080/"
        }
      },
      "source": [
        "print('Min: {}, Max: {}'.format(train_images.min(), train_images.max()))\n",
        "\n",
        "train_images /= 255.0\n",
        "test_images /= 255.0"
      ],
      "execution_count": 24,
      "outputs": [
        {
          "output_type": "stream",
          "text": [
            "Min: 0.0, Max: 255.0\n"
          ],
          "name": "stdout"
        }
      ]
    },
    {
      "cell_type": "code",
      "metadata": {
        "id": "R7igNvTobQ3J"
      },
      "source": [
        "lb = LabelBinarizer()\n",
        "train_labels = lb.fit_transform(train_labels)\n",
        "test_labels = lb.fit_transform(test_labels)"
      ],
      "execution_count": 25,
      "outputs": []
    },
    {
      "cell_type": "code",
      "metadata": {
        "id": "sXHMSIipbUva"
      },
      "source": [
        "X_train, X_val, y_train, y_val = train_test_split(train_images, train_labels,\n",
        "                                                  test_size=0.15, random_state=22)"
      ],
      "execution_count": 26,
      "outputs": []
    },
    {
      "cell_type": "code",
      "metadata": {
        "id": "dyxC9_s6baBQ",
        "outputId": "dc76db74-597b-4031-b9c0-199896089feb",
        "colab": {
          "base_uri": "https://localhost:8080/"
        }
      },
      "source": [
        "y_val.shape"
      ],
      "execution_count": 27,
      "outputs": [
        {
          "output_type": "execute_result",
          "data": {
            "text/plain": [
              "(10989, 10)"
            ]
          },
          "metadata": {
            "tags": []
          },
          "execution_count": 27
        }
      ]
    },
    {
      "cell_type": "code",
      "metadata": {
        "id": "QMcc7Gcxbm-I"
      },
      "source": [
        "datagen = ImageDataGenerator(rotation_range=8,\n",
        "                             zoom_range=[0.95, 1.05],\n",
        "                             height_shift_range=0.10,\n",
        "                             shear_range=0.15)"
      ],
      "execution_count": 28,
      "outputs": []
    },
    {
      "cell_type": "code",
      "metadata": {
        "id": "e-Adx8h1bo4X"
      },
      "source": [
        "\n",
        "keras.backend.clear_session()\n",
        "\n",
        "aux_model = keras.Sequential([\n",
        "    keras.layers.Conv2D(32, (3, 3), padding='same', \n",
        "                           activation='relu',\n",
        "                           input_shape=(32, 32, 3)),\n",
        "    keras.layers.BatchNormalization(),\n",
        "    keras.layers.Conv2D(32, (3, 3), padding='same', \n",
        "                        activation='relu'),\n",
        "    keras.layers.MaxPooling2D((2, 2)),\n",
        "    keras.layers.Dropout(0.3),\n",
        "    \n",
        "    keras.layers.Conv2D(64, (3, 3), padding='same', \n",
        "                           activation='relu'),\n",
        "    keras.layers.BatchNormalization(),\n",
        "    keras.layers.Conv2D(64, (3, 3), padding='same',\n",
        "                        activation='relu'),\n",
        "    keras.layers.MaxPooling2D((2, 2)),\n",
        "    keras.layers.Dropout(0.3),\n",
        "    \n",
        "    keras.layers.Conv2D(128, (3, 3), padding='same', \n",
        "                           activation='relu'),\n",
        "    keras.layers.BatchNormalization(),\n",
        "    keras.layers.Conv2D(128, (3, 3), padding='same',\n",
        "                        activation='relu'),\n",
        "    keras.layers.MaxPooling2D((2, 2)),\n",
        "    keras.layers.Dropout(0.3),\n",
        "    \n",
        "    keras.layers.Flatten(),\n",
        "    keras.layers.Dense(128, activation='relu'),\n",
        "    keras.layers.Dropout(0.4),    \n",
        "    keras.layers.Dense(10,  activation='softmax')\n",
        "])\n",
        "\n",
        "lr_schedule = keras.callbacks.LearningRateScheduler(\n",
        "              lambda epoch: 1e-4 * 10**(epoch / 10))\n",
        "optimizer = keras.optimizers.Adam(lr=1e-4, amsgrad=True)\n",
        "aux_model.compile(optimizer=optimizer,\n",
        "                  loss='categorical_crossentropy',\n",
        "                 metrics=['accuracy'])"
      ],
      "execution_count": 29,
      "outputs": []
    },
    {
      "cell_type": "code",
      "metadata": {
        "id": "-KRvHDvrb9yY",
        "outputId": "0b7ffc34-d94d-4e59-85a2-90b5e2df7b24",
        "colab": {
          "base_uri": "https://localhost:8080/"
        }
      },
      "source": [
        "history = aux_model.fit(datagen.flow(X_train, y_train, batch_size=128),\n",
        "                              epochs=30, validation_data=(X_val, y_val),\n",
        "                              callbacks=[lr_schedule])"
      ],
      "execution_count": 30,
      "outputs": [
        {
          "output_type": "stream",
          "text": [
            "Epoch 1/30\n",
            "487/487 [==============================] - 33s 68ms/step - loss: 2.3109 - accuracy: 0.1636 - val_loss: 2.2172 - val_accuracy: 0.1949\n",
            "Epoch 2/30\n",
            "487/487 [==============================] - 33s 67ms/step - loss: 2.1476 - accuracy: 0.2080 - val_loss: 1.8829 - val_accuracy: 0.3190\n",
            "Epoch 3/30\n",
            "487/487 [==============================] - 32s 66ms/step - loss: 1.5115 - accuracy: 0.4806 - val_loss: 0.7002 - val_accuracy: 0.7902\n",
            "Epoch 4/30\n",
            "487/487 [==============================] - 33s 67ms/step - loss: 0.9513 - accuracy: 0.6879 - val_loss: 0.4695 - val_accuracy: 0.8592\n",
            "Epoch 5/30\n",
            "487/487 [==============================] - 33s 67ms/step - loss: 0.7331 - accuracy: 0.7678 - val_loss: 0.3755 - val_accuracy: 0.8870\n",
            "Epoch 6/30\n",
            "487/487 [==============================] - 33s 67ms/step - loss: 0.6068 - accuracy: 0.8120 - val_loss: 0.3441 - val_accuracy: 0.8978\n",
            "Epoch 7/30\n",
            "487/487 [==============================] - 32s 67ms/step - loss: 0.5242 - accuracy: 0.8391 - val_loss: 0.3328 - val_accuracy: 0.9004\n",
            "Epoch 8/30\n",
            "487/487 [==============================] - 33s 67ms/step - loss: 0.4632 - accuracy: 0.8615 - val_loss: 0.2708 - val_accuracy: 0.9208\n",
            "Epoch 9/30\n",
            "487/487 [==============================] - 33s 67ms/step - loss: 0.4207 - accuracy: 0.8755 - val_loss: 0.2719 - val_accuracy: 0.9237\n",
            "Epoch 10/30\n",
            "487/487 [==============================] - 33s 67ms/step - loss: 0.3880 - accuracy: 0.8853 - val_loss: 0.2849 - val_accuracy: 0.9200\n",
            "Epoch 11/30\n",
            "487/487 [==============================] - 33s 67ms/step - loss: 0.3669 - accuracy: 0.8927 - val_loss: 0.2670 - val_accuracy: 0.9267\n",
            "Epoch 12/30\n",
            "487/487 [==============================] - 33s 67ms/step - loss: 0.3581 - accuracy: 0.8969 - val_loss: 0.4093 - val_accuracy: 0.8741\n",
            "Epoch 13/30\n",
            "487/487 [==============================] - 32s 67ms/step - loss: 0.3480 - accuracy: 0.8998 - val_loss: 0.3229 - val_accuracy: 0.9074\n",
            "Epoch 14/30\n",
            "487/487 [==============================] - 32s 67ms/step - loss: 0.3463 - accuracy: 0.8995 - val_loss: 0.2505 - val_accuracy: 0.9316\n",
            "Epoch 15/30\n",
            "487/487 [==============================] - 33s 67ms/step - loss: 0.3410 - accuracy: 0.9032 - val_loss: 0.2524 - val_accuracy: 0.9310\n",
            "Epoch 16/30\n",
            "487/487 [==============================] - 33s 67ms/step - loss: 0.3508 - accuracy: 0.9014 - val_loss: 0.2604 - val_accuracy: 0.9258\n",
            "Epoch 17/30\n",
            "487/487 [==============================] - 33s 67ms/step - loss: 0.3534 - accuracy: 0.9002 - val_loss: 0.2398 - val_accuracy: 0.9335\n",
            "Epoch 18/30\n",
            "487/487 [==============================] - 32s 67ms/step - loss: 0.3615 - accuracy: 0.8989 - val_loss: 0.2431 - val_accuracy: 0.9350\n",
            "Epoch 19/30\n",
            "487/487 [==============================] - 32s 66ms/step - loss: 0.3677 - accuracy: 0.8951 - val_loss: 0.2720 - val_accuracy: 0.9283\n",
            "Epoch 20/30\n",
            "487/487 [==============================] - 33s 68ms/step - loss: 0.3725 - accuracy: 0.8963 - val_loss: 0.3203 - val_accuracy: 0.9048\n",
            "Epoch 21/30\n",
            "487/487 [==============================] - 32s 67ms/step - loss: 0.3842 - accuracy: 0.8928 - val_loss: 0.3065 - val_accuracy: 0.9149\n",
            "Epoch 22/30\n",
            "487/487 [==============================] - 33s 67ms/step - loss: 0.4023 - accuracy: 0.8859 - val_loss: 0.5119 - val_accuracy: 0.8497\n",
            "Epoch 23/30\n",
            "487/487 [==============================] - 33s 67ms/step - loss: 0.4937 - accuracy: 0.8628 - val_loss: 0.3392 - val_accuracy: 0.9100\n",
            "Epoch 24/30\n",
            "487/487 [==============================] - 33s 67ms/step - loss: 0.5957 - accuracy: 0.8352 - val_loss: 0.4367 - val_accuracy: 0.8861\n",
            "Epoch 25/30\n",
            "487/487 [==============================] - 32s 66ms/step - loss: 0.9088 - accuracy: 0.7512 - val_loss: 0.9415 - val_accuracy: 0.7477\n",
            "Epoch 26/30\n",
            "487/487 [==============================] - 33s 67ms/step - loss: 2.1572 - accuracy: 0.2340 - val_loss: 2.2322 - val_accuracy: 0.1949\n",
            "Epoch 27/30\n",
            "487/487 [==============================] - 33s 67ms/step - loss: 2.2399 - accuracy: 0.1882 - val_loss: 2.2346 - val_accuracy: 0.1949\n",
            "Epoch 28/30\n",
            "487/487 [==============================] - 32s 67ms/step - loss: 2.2406 - accuracy: 0.1882 - val_loss: 2.2362 - val_accuracy: 0.1949\n",
            "Epoch 29/30\n",
            "487/487 [==============================] - 33s 67ms/step - loss: 2.2416 - accuracy: 0.1861 - val_loss: 2.2362 - val_accuracy: 0.1949\n",
            "Epoch 30/30\n",
            "487/487 [==============================] - 32s 66ms/step - loss: 2.2416 - accuracy: 0.1878 - val_loss: 2.2346 - val_accuracy: 0.1949\n"
          ],
          "name": "stdout"
        }
      ]
    },
    {
      "cell_type": "code",
      "metadata": {
        "id": "878mT5Ajbt5H",
        "outputId": "405d7f0d-07e1-46ac-8165-c38706a58d4f",
        "colab": {
          "base_uri": "https://localhost:8080/",
          "height": 287
        }
      },
      "source": [
        "plt.semilogx(history.history['lr'], history.history['loss'])\n",
        "plt.axis([1e-4, 1e-1, 0, 4])\n",
        "plt.xlabel('Learning Rate')\n",
        "plt.ylabel('Training Loss')\n",
        "plt.show()"
      ],
      "execution_count": 31,
      "outputs": [
        {
          "output_type": "display_data",
          "data": {
            "image/png": "[encoded data removed]",
            "text/plain": [
              "<Figure size 432x288 with 1 Axes>"
            ]
          },
          "metadata": {
            "tags": [],
            "needs_background": "light"
          }
        }
      ]
    },
    {
      "cell_type": "code",
      "metadata": {
        "id": "RZkhdEuobzi2"
      },
      "source": [
        "keras.backend.clear_session()\n",
        "\n",
        "model = keras.Sequential([\n",
        "    keras.layers.Conv2D(32, (3, 3), padding='same', \n",
        "                           activation='relu',\n",
        "                           input_shape=(32, 32, 3)),\n",
        "    keras.layers.BatchNormalization(),\n",
        "    keras.layers.Conv2D(32, (3, 3), padding='same', \n",
        "                        activation='relu'),\n",
        "    keras.layers.MaxPooling2D((2, 2)),\n",
        "    keras.layers.Dropout(0.3),\n",
        "    \n",
        "    keras.layers.Conv2D(64, (3, 3), padding='same', \n",
        "                           activation='relu'),\n",
        "    keras.layers.BatchNormalization(),\n",
        "    keras.layers.Conv2D(64, (3, 3), padding='same',\n",
        "                        activation='relu'),\n",
        "    keras.layers.MaxPooling2D((2, 2)),\n",
        "    keras.layers.Dropout(0.3),\n",
        "    \n",
        "    keras.layers.Conv2D(128, (3, 3), padding='same', \n",
        "                           activation='relu'),\n",
        "    keras.layers.BatchNormalization(),\n",
        "    keras.layers.Conv2D(128, (3, 3), padding='same',\n",
        "                        activation='relu'),\n",
        "    keras.layers.MaxPooling2D((2, 2)),\n",
        "    keras.layers.Dropout(0.3),\n",
        "    \n",
        "    keras.layers.Flatten(),\n",
        "    keras.layers.Dense(128, activation='relu'),\n",
        "    keras.layers.Dropout(0.4),    \n",
        "    keras.layers.Dense(10,  activation='softmax')\n",
        "])\n",
        "\n",
        "early_stopping = keras.callbacks.EarlyStopping(patience=8)\n",
        "optimizer = keras.optimizers.Adam(lr=1e-3, amsgrad=True)\n",
        "model_checkpoint = keras.callbacks.ModelCheckpoint(\n",
        "                   '/kaggle/working/best_cnn.h5', \n",
        "                   save_best_only=True)\n",
        "model.compile(optimizer=optimizer,\n",
        "              loss='categorical_crossentropy',\n",
        "              metrics=['accuracy'])"
      ],
      "execution_count": 32,
      "outputs": []
    },
    {
      "cell_type": "code",
      "metadata": {
        "id": "W7sKfpCNcKK6",
        "outputId": "9ac0c58c-6e8b-4e12-9caa-5ffefd1bf37b",
        "colab": {
          "base_uri": "https://localhost:8080/"
        }
      },
      "source": [
        "!ls -al"
      ],
      "execution_count": 33,
      "outputs": [
        {
          "output_type": "stream",
          "text": [
            "total 297668\n",
            "drwxr-xr-x 1 root root      4096 Nov 13 00:55 .\n",
            "drwxr-xr-x 1 root root      4096 Nov 13 00:22 ..\n",
            "drwxr-xr-x 1 root root      4096 Nov  6 17:30 .config\n",
            "-rw-r--r-- 1 root root       337 Nov 13 00:54 cv_proj.yml\n",
            "-rw-r--r-- 1 root root  58468498 Jun  7  2018 Miniconda3-4.5.4-Linux-x86_64.sh\n",
            "drwxr-xr-x 1 root root      4096 Nov  6 17:30 sample_data\n",
            "-rw-r--r-- 1 root root  64275384 Nov 13 00:46 test_32x32.mat\n",
            "-rw-r--r-- 1 root root 182040794 Nov 13 00:42 train_32x32.mat\n"
          ],
          "name": "stdout"
        }
      ]
    },
    {
      "cell_type": "code",
      "metadata": {
        "id": "YaM_gmIhcO3D",
        "outputId": "bda57700-b586-4ad3-e4cc-86cd0116e3b1",
        "colab": {
          "base_uri": "https://localhost:8080/"
        }
      },
      "source": [
        "model.summary()"
      ],
      "execution_count": 34,
      "outputs": [
        {
          "output_type": "stream",
          "text": [
            "Model: \"sequential\"\n",
            "_________________________________________________________________\n",
            "Layer (type)                 Output Shape              Param #   \n",
            "=================================================================\n",
            "conv2d (Conv2D)              (None, 32, 32, 32)        896       \n",
            "_________________________________________________________________\n",
            "batch_normalization (BatchNo (None, 32, 32, 32)        128       \n",
            "_________________________________________________________________\n",
            "conv2d_1 (Conv2D)            (None, 32, 32, 32)        9248      \n",
            "_________________________________________________________________\n",
            "max_pooling2d (MaxPooling2D) (None, 16, 16, 32)        0         \n",
            "_________________________________________________________________\n",
            "dropout (Dropout)            (None, 16, 16, 32)        0         \n",
            "_________________________________________________________________\n",
            "conv2d_2 (Conv2D)            (None, 16, 16, 64)        18496     \n",
            "_________________________________________________________________\n",
            "batch_normalization_1 (Batch (None, 16, 16, 64)        256       \n",
            "_________________________________________________________________\n",
            "conv2d_3 (Conv2D)            (None, 16, 16, 64)        36928     \n",
            "_________________________________________________________________\n",
            "max_pooling2d_1 (MaxPooling2 (None, 8, 8, 64)          0         \n",
            "_________________________________________________________________\n",
            "dropout_1 (Dropout)          (None, 8, 8, 64)          0         \n",
            "_________________________________________________________________\n",
            "conv2d_4 (Conv2D)            (None, 8, 8, 128)         73856     \n",
            "_________________________________________________________________\n",
            "batch_normalization_2 (Batch (None, 8, 8, 128)         512       \n",
            "_________________________________________________________________\n",
            "conv2d_5 (Conv2D)            (None, 8, 8, 128)         147584    \n",
            "_________________________________________________________________\n",
            "max_pooling2d_2 (MaxPooling2 (None, 4, 4, 128)         0         \n",
            "_________________________________________________________________\n",
            "dropout_2 (Dropout)          (None, 4, 4, 128)         0         \n",
            "_________________________________________________________________\n",
            "flatten (Flatten)            (None, 2048)              0         \n",
            "_________________________________________________________________\n",
            "dense (Dense)                (None, 128)               262272    \n",
            "_________________________________________________________________\n",
            "dropout_3 (Dropout)          (None, 128)               0         \n",
            "_________________________________________________________________\n",
            "dense_1 (Dense)              (None, 10)                1290      \n",
            "=================================================================\n",
            "Total params: 551,466\n",
            "Trainable params: 551,018\n",
            "Non-trainable params: 448\n",
            "_________________________________________________________________\n"
          ],
          "name": "stdout"
        }
      ]
    },
    {
      "cell_type": "code",
      "metadata": {
        "id": "s5MMttGacXjH",
        "outputId": "16de82e1-b0f6-43be-e287-e0212e37bf63",
        "colab": {
          "base_uri": "https://localhost:8080/"
        }
      },
      "source": [
        "history = model.fit(datagen.flow(X_train, y_train, batch_size=128),\n",
        "                              epochs=70, validation_data=(X_val, y_val),\n",
        "                              callbacks=[early_stopping, model_checkpoint])"
      ],
      "execution_count": null,
      "outputs": [
        {
          "output_type": "stream",
          "text": [
            "Epoch 1/70\n",
            "487/487 [==============================] - 33s 67ms/step - loss: 2.1385 - accuracy: 0.2414 - val_loss: 1.7651 - val_accuracy: 0.4039\n",
            "Epoch 2/70\n",
            "487/487 [==============================] - 33s 67ms/step - loss: 1.5415 - accuracy: 0.4560 - val_loss: 0.8678 - val_accuracy: 0.7593\n",
            "Epoch 3/70\n",
            " 40/487 [=>............................] - ETA: 28s - loss: 1.2196 - accuracy: 0.5771"
          ],
          "name": "stdout"
        }
      ]
    }
  ]
}